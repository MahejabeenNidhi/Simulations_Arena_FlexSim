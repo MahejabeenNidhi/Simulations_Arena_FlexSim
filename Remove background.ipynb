{
 "cells": [
  {
   "cell_type": "code",
   "execution_count": 8,
   "id": "e84f6d07",
   "metadata": {},
   "outputs": [],
   "source": [
    "import numpy as np\n",
    "import cv2 as cv"
   ]
  },
  {
   "cell_type": "code",
   "execution_count": 82,
   "id": "262fdc80",
   "metadata": {},
   "outputs": [],
   "source": [
    "#Gaussian Blur to reduce noise and detail\n",
    "image_vec = cv.imread('image_0322.jpg', 1)\n",
    "blurred = cv.GaussianBlur(image_vec, (5,5), 0)"
   ]
  },
  {
   "cell_type": "code",
   "execution_count": 83,
   "id": "2c7c25e7",
   "metadata": {},
   "outputs": [
    {
     "data": {
      "text/plain": [
       "True"
      ]
     },
     "execution_count": 83,
     "metadata": {},
     "output_type": "execute_result"
    }
   ],
   "source": [
    "#Edge Detection with pre-trained structured forest ML model\n",
    "blurred_float = blurred.astype(np.float32)/255.0\n",
    "edgeDetector = cv.ximgproc.createStructuredEdgeDetection(\"model.yml\")\n",
    "edges = edgeDetector.detectEdges(blurred_float) * 255.0\n",
    "cv.imwrite('edge-raw.jpg', edges)"
   ]
  },
  {
   "cell_type": "code",
   "execution_count": 84,
   "id": "5a1ba11b",
   "metadata": {},
   "outputs": [],
   "source": [
    "def filterOutSaltPepperNoise(edgeImg):\n",
    "    #Get rid of salt & pepper noise\n",
    "    count = 0\n",
    "    lastMedian = edgeImg\n",
    "    median = cv.medianBlur(edgeImg, 3)\n",
    "    while not np.array_equal(lastMedian, median):\n",
    "        #Get those pixels that gets zeroed out\n",
    "        zeroed = np.invert(np.logical_and(median, edgeImg))\n",
    "        edgeImg[zeroed] = 0\n",
    "        \n",
    "        count = count + 1\n",
    "        if count > 50:\n",
    "            break\n",
    "        lastMedian = median\n",
    "        median = cv.medianBlur(edgeImg, 3)"
   ]
  },
  {
   "cell_type": "code",
   "execution_count": 85,
   "id": "9f7b84b4",
   "metadata": {},
   "outputs": [
    {
     "data": {
      "text/plain": [
       "True"
      ]
     },
     "execution_count": 85,
     "metadata": {},
     "output_type": "execute_result"
    }
   ],
   "source": [
    "edges_8u = np.asarray(edges, np.uint8)\n",
    "filterOutSaltPepperNoise(edges_8u)\n",
    "cv.imwrite('edge.jpg', edges_8u)"
   ]
  },
  {
   "cell_type": "code",
   "execution_count": 86,
   "id": "44104cad",
   "metadata": {},
   "outputs": [],
   "source": [
    "def findLargestContour(edgeImg):\n",
    "    contours, hierarchy = cv.findContours(\n",
    "        edgeImg,\n",
    "        cv.RETR_EXTERNAL,\n",
    "        cv.CHAIN_APPROX_SIMPLE\n",
    "    )\n",
    "    #From among them, find the contours with large surface area\n",
    "    contoursWithArea = []\n",
    "    for contour in contours:\n",
    "        area = cv.contourArea(contour)\n",
    "        contoursWithArea.append([contour, area])\n",
    "        \n",
    "    contoursWithArea.sort(key=lambda tupl: tupl[1], reverse=True)\n",
    "    largestContour = contoursWithArea[0][0]\n",
    "    return largestContour"
   ]
  },
  {
   "cell_type": "code",
   "execution_count": 87,
   "id": "a8b00ce6",
   "metadata": {},
   "outputs": [
    {
     "data": {
      "text/plain": [
       "True"
      ]
     },
     "execution_count": 87,
     "metadata": {},
     "output_type": "execute_result"
    }
   ],
   "source": [
    "contour = findLargestContour(edges_8u)\n",
    "#Draw the contour on the original image\n",
    "contourImg = np.copy(image_vec)\n",
    "cv.drawContours(contourImg, [contour], 0, (0, 255, 0), 2, cv.LINE_AA, maxLevel=1)\n",
    "cv.imwrite('contour.jpg', contourImg)"
   ]
  },
  {
   "cell_type": "code",
   "execution_count": 88,
   "id": "b36a6828",
   "metadata": {},
   "outputs": [
    {
     "data": {
      "text/plain": [
       "True"
      ]
     },
     "execution_count": 88,
     "metadata": {},
     "output_type": "execute_result"
    }
   ],
   "source": [
    "mask = np.zeros_like(edges_8u)\n",
    "cv.fillPoly(mask, [contour], 255)\n",
    "\n",
    "#Calculate sure foreground area by dilating the mask \n",
    "mapFg = cv.erode(mask, np.ones((5,5), np.uint8), iterations=10)\n",
    "\n",
    "#Mark initial mask as \"probable background\"\n",
    "#and mapFg as sure foreground\n",
    "trimap = np.copy(mask)\n",
    "trimap[mask == 0] = cv.GC_BGD\n",
    "trimap[mask == 255] = cv.GC_PR_BGD\n",
    "trimap[mask == 255] = cv.GC_FGD\n",
    "\n",
    "#Visualise trimap\n",
    "trimap_print = np.copy(trimap)\n",
    "trimap_print[trimap_print == cv.GC_PR_BGD] = 128\n",
    "trimap_print[trimap_print == cv.GC_BGD] = 255\n",
    "cv.imwrite('trimap.png', trimap_print)"
   ]
  },
  {
   "cell_type": "code",
   "execution_count": 89,
   "id": "4a944de8",
   "metadata": {},
   "outputs": [
    {
     "data": {
      "text/plain": [
       "True"
      ]
     },
     "execution_count": 89,
     "metadata": {},
     "output_type": "execute_result"
    }
   ],
   "source": [
    "#Run grabcut\n",
    "bgdModel = np.zeros((1, 65), np.float64)\n",
    "fgdModel = np.zeros((1, 65), np.float64)\n",
    "rect = (0, 0, mask.shape[0] - 1, mask.shape[1] - 1)\n",
    "cv.grabCut(image_vec, trimap, rect, bgdModel, fgdModel, 5, cv.GC_INIT_WITH_MASK)\n",
    "\n",
    "#Create mask again\n",
    "mask2 = np.where(\n",
    "    (trimap == cv.GC_FGD) | (trimap == cv.GC_PR_FGD),\n",
    "    255,\n",
    "    0\n",
    ").astype('uint8')\n",
    "cv.imwrite('mask2.jpg', mask2)"
   ]
  },
  {
   "cell_type": "code",
   "execution_count": 90,
   "id": "2bfc0517",
   "metadata": {},
   "outputs": [
    {
     "data": {
      "text/plain": [
       "array([[  0,   0, 255, ...,   0,   0,   0],\n",
       "       [  0, 255, 255, ...,   0,   0,   0],\n",
       "       [  0, 255, 255, ...,   0,   0,   0],\n",
       "       ...,\n",
       "       [  0,   0,   0, ...,   0,   0,   0],\n",
       "       [  0,   0,   0, ...,   0,   0,   0],\n",
       "       [  0,   0,   0, ...,   0,   0,   0]], dtype=uint8)"
      ]
     },
     "execution_count": 90,
     "metadata": {},
     "output_type": "execute_result"
    }
   ],
   "source": [
    "contour2 = findLargestContour(mask2)\n",
    "mask3 = np.zeros_like(mask2)\n",
    "cv.fillPoly(mask3, [contour2], 255)"
   ]
  },
  {
   "cell_type": "code",
   "execution_count": 91,
   "id": "a2a69b64",
   "metadata": {},
   "outputs": [
    {
     "data": {
      "text/plain": [
       "True"
      ]
     },
     "execution_count": 91,
     "metadata": {},
     "output_type": "execute_result"
    }
   ],
   "source": [
    "#Blended Alpha cut-out\n",
    "mask3 = np.repeat(mask3[:, :, np.newaxis], 3, axis=2)\n",
    "mask4 = cv.GaussianBlur(mask3, (3, 3), 0)\n",
    "alpha = mask4.astype(float) * 1.1 #making blend stronger\n",
    "alpha[mask3 > 0] = 255.0\n",
    "alpha[alpha > 255] = 255.0\n",
    "\n",
    "foreground = np.copy(image_vec).astype(float)\n",
    "foreground[mask4 == 0] = 0\n",
    "background = np.ones_like(foreground, dtype=float) * 255.0\n",
    "\n",
    "cv.imwrite('foreground.png', foreground)\n",
    "cv.imwrite('background.png', background)\n",
    "cv.imwrite('alpha.png', alpha)\n",
    "\n",
    "#Normalise the alpha mask to keep intensity between 0 and 1\n",
    "alpha = alpha/255.0\n",
    "#Multiply the foreground with the alpha matte\n",
    "foreground = cv.multiply(alpha, foreground)\n",
    "#Multiply the background with (1-alpha)\n",
    "background = cv.multiply(1.0 - alpha, background)\n",
    "#Add the masked foreground and background\n",
    "cutout = cv.add(foreground, background)\n",
    "\n",
    "cv.imwrite('cutout.jpg', cutout)"
   ]
  },
  {
   "cell_type": "code",
   "execution_count": null,
   "id": "48ed7dbe",
   "metadata": {},
   "outputs": [],
   "source": []
  },
  {
   "cell_type": "code",
   "execution_count": 31,
   "id": "370df742",
   "metadata": {},
   "outputs": [],
   "source": []
  },
  {
   "cell_type": "code",
   "execution_count": null,
   "id": "a1259397",
   "metadata": {},
   "outputs": [],
   "source": []
  }
 ],
 "metadata": {
  "kernelspec": {
   "display_name": "Python 3",
   "language": "python",
   "name": "python3"
  },
  "language_info": {
   "codemirror_mode": {
    "name": "ipython",
    "version": 3
   },
   "file_extension": ".py",
   "mimetype": "text/x-python",
   "name": "python",
   "nbconvert_exporter": "python",
   "pygments_lexer": "ipython3",
   "version": "3.9.5"
  }
 },
 "nbformat": 4,
 "nbformat_minor": 5
}
